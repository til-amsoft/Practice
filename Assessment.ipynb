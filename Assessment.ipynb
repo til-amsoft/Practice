{
  "cells": [
    {
      "metadata": {},
      "cell_type": "markdown",
      "source": "<h1 style=\"text-align: center\">Scientific Programming with Python</h1>"
    },
    {
      "metadata": {},
      "cell_type": "markdown",
      "source": "<h3 style=\"text-align: center\">Christian Hill</h3>\n\n<h4 style=\"text-align: center\">Michaelmas Term 2016</h4>"
    },
    {
      "metadata": {},
      "cell_type": "markdown",
      "source": "## Assessment Exercise: Powder diffraction patterns"
    },
    {
      "metadata": {},
      "cell_type": "markdown",
      "source": "The relative integrated intensity of the $hkl$ X-ray reflection by a powdered crystalline sample as a function of angle, $\\theta$, may be written\n$$\nI(\\theta) = \\frac{p}{V^2}\\left[ \\frac{1+\\cos^2 2\\theta}{\\sin^2\\theta\\cos\\theta}\\right]|F_{hkl}|^2\\exp\\left(-\\frac{2B\\sin^2\\theta}{\\lambda^2}\\right), \\quad\\quad\\quad\\mathrm{(1)}\n$$\nwhere:\n\n* $\\theta$ is the _Bragg angle_, given by $2d\\sin\\theta = \\lambda$ for X-ray wavelength $\\lambda$ and $hkl$ interplanar spacing, $d$;\n* $|F_{hkl}|$ is the magnitude of the structure factor;\n* $p$ is the multiplicity of the $hkl$ reflection;\n* $V$ is the unit cell volume;\n* $B$ is the isotropic temperature factor.\n\nIn this exercise we will simulate a powder diffraction pattern. The cell parameters, $a$, $b$, $c$, $\\alpha$, $\\beta$, $\\gamma$, and list of $hkl$ values contributing to the reflections and their multiplicities will be provided. We will assume $B$ is a constant for all reflections."
    },
    {
      "metadata": {
        "trusted": true
      },
      "cell_type": "code",
      "source": "# Some imports that will prove useful\nimport numpy as np\nimport checks",
      "execution_count": 18,
      "outputs": []
    },
    {
      "metadata": {},
      "cell_type": "markdown",
      "source": "---\n\n### Question 1\nWrite a function, `calc_V` calculating the volume of the crystal unit cell,\n$$\nV = abc\\sqrt{1 - \\cos^2\\alpha - \\cos^2\\beta - \\cos^2\\gamma + 2\\cos\\alpha\\cos\\beta\\cos\\gamma}\n$$\n"
    },
    {
      "metadata": {
        "trusted": true
      },
      "cell_type": "code",
      "source": "def calc_V(a, b, c, alpha, beta, gamma):\n    \"\"\"Calculate and return the unit cell volume.\n    \n    a, b, c are the cell edge dimensions\n    alpha, beta, gamma are the cell angles in radians.\n    \n    \"\"\"\n    #calculating edge length contribution\n    edge_V = a*b*c\n    #calculating contribution from angles\n    angle_V = np.sqrt(1 - np.cos(alpha)**2 - np.cos(beta)**2 - np.cos(gamma)**2 + 2*np.cos(alpha)*np.cos(beta)*np.cos(gamma))\n    #calculating total volume\n    V = edge_V * angle_V\n    \n    return V",
      "execution_count": 19,
      "outputs": []
    },
    {
      "metadata": {},
      "cell_type": "markdown",
      "source": "Test your code by running the following cell"
    },
    {
      "metadata": {
        "trusted": true
      },
      "cell_type": "code",
      "source": "checks.run_check('check_V', calc_V, hint=True)",
      "execution_count": 20,
      "outputs": [
        {
          "output_type": "display_data",
          "data": {
            "text/markdown": "**<span style=\"color: green;\">PASSED</span>**",
            "text/plain": "<IPython.core.display.Markdown object>"
          },
          "metadata": {}
        }
      ]
    },
    {
      "metadata": {},
      "cell_type": "markdown",
      "source": "---\n\n### Question 2\n\nThe _scattering vector_, $\\boldsymbol{q}$, has magnitude\n$$\nq = \\frac{4\\pi\\sin\\theta}{\\lambda} = \\frac{2\\pi}{d}\n$$\nwhere the interplanar spacing (the $d$-_spacing_) is given by\n$$\n\\frac{1}{d^2} = \\frac{1}{V^2}(S_{11}h^2 + S_{22}k^2 + S_{33}l^2 + 2S_{12}hk + 2S_{23}kl + 2S_{13}{hl}).\n$$\nIn this equation,\n$$\n\\begin{align}\nS_{11} &= b^2c^2\\sin^2\\alpha\\\\\nS_{22} &= a^2c^2\\sin^2\\beta\\\\\nS_{33} &= a^2b^2\\sin^2\\gamma\\\\\nS_{12} &= abc^2(\\cos\\alpha\\cos\\beta - \\cos\\gamma)\\\\\nS_{23} &= a^2bc(\\cos\\beta\\cos\\gamma - \\cos\\alpha)\\\\\nS_{13} &= ab^2c(\\cos\\gamma\\cos\\alpha - \\cos\\beta)\n\\end{align}\n$$\n\nWrite a function, `calc_q` which returns $|q|$ for a given $hkl$ reflection."
    },
    {
      "metadata": {
        "trusted": true
      },
      "cell_type": "code",
      "source": "def calc_q(h, k, l):\n    \"\"\"Calculate and return the magnitude of the scattering vector, q.\n    \n    |q| is calculated for the reflection indexed at (h,k,l).\n    The cell parameters: a, b, c, alpha, beta, gamma are to be\n    resolved in the containing scope.\n    \n    \"\"\"\n    #Calculate Volume with calc_V function\n    V = calc_V(a, b, c, alpha, beta, gamma)\n    # Calculate the S values\n    S_11 = b**2 * c**2 * np.sin(alpha)**2\n    S_22 = a**2 * c**2 * np.sin(beta)**2\n    S_33 = a**2 * b**2 * np.sin(gamma)**2\n    S_12 = a*b*c**2 * (np.cos(alpha)*np.cos(beta)-np.cos(gamma))\n    S_23 = a**2*b*c * (np.cos(gamma)*np.cos(beta)-np.cos(alpha))\n    S_13 = a*b**2*c * (np.cos(alpha)*np.cos(gamma)-np.cos(beta))\n    #calculate d^-2\n    d_to_minus2 = V**-2*(S_11*h**2 + S_22*k**2 + S_33*l**2 + 2*S_12*h*k + 2*S_23*k*l + 2*S_13*h*l)\n    d = np.sqrt(d_to_minus2**-1)\n    q = (2*np.pi)/d\n\n    return q",
      "execution_count": 21,
      "outputs": []
    },
    {
      "metadata": {},
      "cell_type": "markdown",
      "source": "Test your code by running the following cell"
    },
    {
      "metadata": {
        "trusted": true
      },
      "cell_type": "code",
      "source": "checks.run_check('check_q', calc_q, hint=True)",
      "execution_count": 22,
      "outputs": [
        {
          "output_type": "display_data",
          "data": {
            "text/markdown": "**<span style=\"color: green;\">PASSED</span>**",
            "text/plain": "<IPython.core.display.Markdown object>"
          },
          "metadata": {}
        }
      ]
    },
    {
      "metadata": {},
      "cell_type": "markdown",
      "source": "---\n\nThe structure factor, $F_{hkl}$, is calculated as\n$$\nF_{hkl} = \\sum_{i=1}^{N} f_i \\exp[2\\pi i (hx_i + ky_i + lz_i)]\n$$\nwhere $N$ is the number of atoms in the unit cell, $(x_i, y_i, z_i)$ is the position of atom $i$, and $f_i$ is the _atomic form factor_ for atom $i$ (which depends on the atom type and the magnitude of the scattering vector, $q$).\n\nThe atomic form factor may be described by the formula\n$$\nf_i(q) = \\sum_{j=1}^4 a_j \\exp\\left[-b_j\\left(\\frac{q}{4\\pi}\\right)^2\\right] + c,\n$$\nwhere $a_j$, $b_j$, and $c$ are coefficients tabulated in the comma-separated file [`form-factors.csv`](form-factors.csv) for 211 atoms and ions and the magnitude of the scattering vector, $q$ is in $\\mathrm{nm^{-1}}$.\n\n### Question 3\n\nWrite a function which reads in this file to a dictionary, keyed by the the atom or ion symbol as given in the first column. The \"value\" associated with each key should be a numpy array of the nine coefficients $a_1, b_1, a_2, b_2, a_3, b_3, a_4, b_4, c$"
    },
    {
      "metadata": {
        "trusted": true
      },
      "cell_type": "code",
      "source": "def read_form_factor_coefs():\n    \"\"\"Read in the atomic form factor coefficients from form-factors.csv.\n    \n    The nine coefficients are returned in a dictionary, keyed by the atom\n    or ion symbol.\n    \n    \"\"\"\n    coeffs = {}                                           #creating empty dictionary\n    import csv                                            #importing csv library\n    with open('form-factors.csv', newline='') as csvfile:\n        reader = csv.reader(csvfile)                      #creating csv.reader object from form-factors.csv\n        for row in reader:                                #reading each row into a dictionary, with a numpy array key\n            coeffs[row[0]] = np.array([row[1],row[2],row[3],row[4],row[5],row[6],row[7],row[8],row[9]], dtype =float)\n    return coeffs",
      "execution_count": 23,
      "outputs": []
    },
    {
      "metadata": {},
      "cell_type": "markdown",
      "source": "Test your code by running the following cell"
    },
    {
      "metadata": {
        "trusted": true
      },
      "cell_type": "code",
      "source": "checks.run_check('check_f_coefs', read_form_factor_coefs)",
      "execution_count": 24,
      "outputs": [
        {
          "output_type": "display_data",
          "data": {
            "text/markdown": "**<span style=\"color: green;\">PASSED</span>**",
            "text/plain": "<IPython.core.display.Markdown object>"
          },
          "metadata": {}
        }
      ]
    },
    {
      "metadata": {},
      "cell_type": "markdown",
      "source": "### Question 4\n\nNow write a function, `calc_f` to calculate the atomic form factor for an atom or ion given its symbol and the magnitude of the scattering vector, $q$.\n"
    },
    {
      "metadata": {
        "trusted": true
      },
      "cell_type": "code",
      "source": "# Read in the coefficients for the atomic form factors\ncoeffs = read_form_factor_coefs()\n\ndef calc_f(symbol, q, coeffs=coeffs):\n    \"\"\"Calculate and return the atomic form factor.\n    \n    symbol is a string identifying the atom or ion (e.g. 'Zn', 'Mg+2')\n    q is the magnitude of the scattering vector in reciprocal nm.\n    \n    \"\"\"\n    coefs = coeffs[symbol]\n    f=0\n    for n in range(4):\n        f += coefs[2*n] * np.exp(-1*coefs[2*n+1]*(q/(4*np.pi))**2)\n    f += coefs[8]\n\n    return f",
      "execution_count": 25,
      "outputs": []
    },
    {
      "metadata": {},
      "cell_type": "markdown",
      "source": "Test your code by running the following cell"
    },
    {
      "metadata": {
        "trusted": true
      },
      "cell_type": "code",
      "source": "checks.run_check('check_form_factor', calc_f, hint=True)",
      "execution_count": 26,
      "outputs": [
        {
          "output_type": "display_data",
          "data": {
            "text/markdown": "**<span style=\"color: green;\">PASSED</span>**",
            "text/plain": "<IPython.core.display.Markdown object>"
          },
          "metadata": {}
        }
      ]
    },
    {
      "metadata": {},
      "cell_type": "markdown",
      "source": "### Question 5\n\nWrite a function, `calc_F`, to calculate the magnitude of the structure factor for an $hkl$ reflection, $|F_{hkl}|$. Assume that the atom positions are provided in a list of $N$ tuples: each tuple represents an atom in the unit cell with the first item that atom's symbol and the second a 3-tuple of that atom's fractional coordinates. For example, the atom positions in zinc blende (ZnS) would be represented by\n\n    atoms = [( 'Zn', (0.25, 0.25, 0.25) ),\n             ( 'Zn', (0.75, 0.75, 0.25) ),\n             ( 'Zn', (0.75, 0.25, 0.75) ),\n             ( 'Zn', (0.25, 0.75, 0.75) ),\n             ( 'S', (0.0, 0.0, 0.0) ),\n             ( 'S', (0.5, 0.5, 0.0) ),\n             ( 'S', (0.5, 0.0, 0.5) ),\n             ( 'S', (0.0, 0.5, 0.5) ),\n            ]"
    },
    {
      "metadata": {
        "trusted": true
      },
      "cell_type": "code",
      "source": "def calc_absF(hkl, atoms, q=None):\n    \"\"\"Return the magnitude of the structure factor for the hkl reflection.\n    \n    hkl is a NumPy array of (h, k, l)\n    atoms is a list of (atom_symbol, atom_position) tuples where atom_symbol\n    identifies the atom or ion and atom_position is its fractional coordinates\n    in the unit cell.\n    q is the magnitude of the scattering vector for the hkl reflection: if it\n    is not provided, it will be calculated.\n    \n    \"\"\"\n    #calculate q if required\n    if q is None:\n        q = calc_q(*hkl)\n    else:\n        pass\n    #initialise F to zero\n    F = 0\n    #for each atom in cell\n    for n in range(len(atoms)):\n        f = calc_f(atoms[n][0], q)                                        #calculate atomic form factor f\n        coord_plane = np.multiply(atoms[n][1],hkl)                        #multiply coordinates by plane indices\n        exponent = 2* np.sum(coord_plane)                                 #calculate the exponent of e^i*pi\n        F += f * (np.cos(exponent * np.pi) + 1j* np.sin(exponent*np.pi))  #add this atom contribution to F\n    \n    #get absolute value of F\n    absF = abs(F)\n    return absF",
      "execution_count": 27,
      "outputs": []
    },
    {
      "metadata": {},
      "cell_type": "markdown",
      "source": "Test your code by running the following cell"
    },
    {
      "metadata": {
        "trusted": true
      },
      "cell_type": "code",
      "source": "checks.run_check('check_structure_factor', calc_absF, hint=True)",
      "execution_count": 28,
      "outputs": [
        {
          "output_type": "display_data",
          "data": {
            "text/markdown": "**<span style=\"color: green;\">PASSED</span>**",
            "text/plain": "<IPython.core.display.Markdown object>"
          },
          "metadata": {}
        }
      ]
    },
    {
      "metadata": {},
      "cell_type": "markdown",
      "source": "---\n\n### Question 6\n\nNow write a function, `calc_I` to calculate the relative integrated intensity of an X-ray reflection $hkl$ with multiplicity $p$ using equation (1). Take $B = 0$ (that is, ignore temperature effects) and $\\lambda = 0.154\\;\\mathrm{nm}$ (the Cu $\\mathrm{K}_\\alpha$ line). Your code should return `thetaB`, the Bragg angle corresponding to the $hkl$ reflection, and `I`, the reflected intensity at that angle."
    },
    {
      "metadata": {
        "trusted": true
      },
      "cell_type": "code",
      "source": "def calc_I(hkl, p, B=0, lam=0.154):\n    \"\"\"Return the Bragg angle and integrated intensity of reflection hkl.\n    \n    hkl is a NumPy array of (h, k, l)\n    p is the multiplicity of the reflection.\n    B is the Isotropic temperature factor in nm2.\n    lam is the X-ray wavelength in nm.\n    \n    Returns:\n    thetaB: the Bragg angle for the reflection hkl.\n    I: the relative integrated intensity of reflection hkl.\n    \n    \"\"\"\n    V = calc_V(a, b, c, alpha, beta, gamma) #assume cell parameters are resolved in containing scope\n    q = calc_q(*hkl)\n    sin_theta = q*lam/(4*np.pi)\n    thetaB = np.arcsin(sin_theta)\n    absF = calc_absF(hkl, atoms, q)\n    geom_I = (1 + np.cos(2*thetaB)**2)/(np.sin(thetaB)**2 * np.cos(thetaB))\n    structure_I = absF**2\n    thermal_I = np.exp((-2*B*np.sin(thetaB)**2)/lam**2)\n    I = (p/(V**2)) * geom_I * structure_I * thermal_I\n    \n    return thetaB, I",
      "execution_count": 29,
      "outputs": []
    },
    {
      "metadata": {},
      "cell_type": "markdown",
      "source": "Test your code by running the following cell"
    },
    {
      "metadata": {
        "trusted": true
      },
      "cell_type": "code",
      "source": "checks.run_check('check_intensity_calculation', calc_I, hint=True)",
      "execution_count": 30,
      "outputs": [
        {
          "output_type": "display_data",
          "data": {
            "text/markdown": "**<span style=\"color: green;\">PASSED</span>**",
            "text/plain": "<IPython.core.display.Markdown object>"
          },
          "metadata": {}
        }
      ]
    },
    {
      "metadata": {},
      "cell_type": "markdown",
      "source": "### Question 7\n\nNow let's simultate a powder diffraction pattern. First execute the cell below to import the crystallographic data relating to the zinc blende structure of ZnS."
    },
    {
      "metadata": {
        "trusted": true
      },
      "cell_type": "code",
      "source": "from ZnS import cellparams, atoms, reflections\na, b, c, alpha, beta, gamma = cellparams",
      "execution_count": 31,
      "outputs": []
    },
    {
      "metadata": {},
      "cell_type": "markdown",
      "source": "`reflections` is a list of `( (hkl), p )` tuples where `p` is the multiplicity of the `hkl` reflection. Use your function, `calc_I`, to calculate a list of Bragg angles, `thetaB`, and reflection intensities, `I`. Normalize the intensities so that the maximum intensity is 100."
    },
    {
      "metadata": {
        "trusted": true
      },
      "cell_type": "code",
      "source": "#initiate empty arrays\nthetaB = []\nI = []\n#reading reflections data and calculating angles and intensities\nfor n in range(len(reflections)):\n    hkl = reflections[n][0]\n    p = reflections[n][1]\n    theta_I = calc_I(hkl,p)\n    thetaB.append(theta_I[0])\n    I.append(theta_I[1])\n\n#normalise intensities\nmax_I = max(I)\nfor n in range(len(I)):\n    I[n] *= (100/max_I)\n    \nprint(I)\nprint(thetaB)",
      "execution_count": 36,
      "outputs": [
        {
          "output_type": "stream",
          "text": "[100.0, 15.94184377673218, 24.28483836537568, 11.892332640731624, 0.629266451876869, 2.20518373320162, 3.409962908448351, 0.33281142846551826, 4.790040466670706, 2.3228630880736603, 2.2485826901274435, 5.055406987639182, 6.176856017438328, 4.055997924835849]\n[0.24908891447053622, 0.2886496922412651, 0.414319676235901, 0.4916169463579423, 0.5155830497176904, 0.6056737176655842, 0.6692498344656206, 0.6899708877816099, 0.7715776042673488, 0.8324213011349311, 0.935902250463164, 1.0010351721192636, 1.1201545422741592, 1.2035339042911954]\n",
          "name": "stdout"
        }
      ]
    },
    {
      "metadata": {},
      "cell_type": "markdown",
      "source": "### Plotting the simulated pattern\n\nRun the following code to plot a simulated powder diffraction pattern from the arrays `thetaB` and `I`"
    },
    {
      "metadata": {
        "trusted": true
      },
      "cell_type": "code",
      "source": "import matplotlib.pyplot as plt\n\n# Some settings to improve the look of the figure: while testing, comment out\n# these three lines to speed up the time it takes to render the plot.\n\ndef gaussian(x, x0, sigma):\n    \"\"\"The normalized Gaussian function centred at x0 with standard deviation sigma.\"\"\"\n    \n    return np.exp(-((x-x0)/sigma)**2 / 2) / sigma / np.sqrt(2*np.pi)\n\n# Total number of points in the spectrum.\nn = 1000\n# Maximum theta (radians)\ntheta_max = np.radians(70)\n# The grid of angles, theta, and the grid spacing, dtheta.\ntheta_grid, dtheta = np.linspace(0, theta_max, n, retstep=True)\n# Each reflection is calculated as a Gaussian function out to nwidth\n# standard deviations (width, in rad).\nwidth, nwidths = np.pi / 600, 5\n# The width of the Gaussian in integer index units\nh = int(nwidths * width / dtheta)\n\nspec = np.zeros(n)\nfor theta, intensity in zip(thetaB, I):\n    idx = int(n * theta/theta_max)\n    # This reflection's contribution to the spectrum: the width varies with\n    # as 1 / cos(theta).\n    spec[idx-h:idx+h] += intensity * gaussian(theta_grid[idx-h:idx+h], theta_grid[idx],\n                                              width / np.cos(theta))\n\n# Make and label the plot.\nplt.plot(np.degrees(2*theta_grid), spec)\nplt.xlabel(r'$2\\theta\\;/\\mathrm{deg}$')\nplt.ylabel(r'$I\\;/\\mathrm{arb.\\;units}$')\nplt.title('Powder Diffraction pattern of ZnS')\nplt.show()",
      "execution_count": 37,
      "outputs": [
        {
          "output_type": "display_data",
          "data": {
            "image/png": "[encoded data removed]",
            "text/plain": "<matplotlib.figure.Figure at 0x7f57da8f1ac8>"
          },
          "metadata": {}
        }
      ]
    },
    {
      "metadata": {
        "collapsed": true,
        "trusted": false
      },
      "cell_type": "code",
      "source": "",
      "execution_count": null,
      "outputs": []
    }
  ],
  "metadata": {
    "anaconda-cloud": {},
    "kernelspec": {
      "name": "python3",
      "display_name": "Python 3",
      "language": "python"
    },
    "language_info": {
      "mimetype": "text/x-python",
      "nbconvert_exporter": "python",
      "name": "python",
      "pygments_lexer": "ipython3",
      "version": "3.5.4",
      "file_extension": ".py",
      "codemirror_mode": {
        "version": 3,
        "name": "ipython"
      }
    }
  },
  "nbformat": 4,
  "nbformat_minor": 1
}